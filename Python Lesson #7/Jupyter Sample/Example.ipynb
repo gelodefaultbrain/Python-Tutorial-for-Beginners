{
 "cells": [
  {
   "cell_type": "markdown",
   "metadata": {},
   "source": [
    "Hello World. This is a tutorial on how you can use Jupyter Notebook to run Python Programs. You can also\n",
    "use Jupyter Notebook for to work on your Python Projects. Happy Coding!"
   ]
  },
  {
   "cell_type": "code",
   "execution_count": 2,
   "metadata": {},
   "outputs": [
    {
     "data": {
      "text/html": [
       "<img src=\"cute_dogo.jpg\" style=\"width:400px;height:800px;\">\n",
       "<font> Hello Jupyter Notebook </font>\n"
      ],
      "text/plain": [
       "<IPython.core.display.HTML object>"
      ]
     },
     "metadata": {},
     "output_type": "display_data"
    }
   ],
   "source": [
    "%%HTML\n",
    "<img src=\"cute_dogo.jpg\" style=\"width:400px;height:800px;\">\n",
    "<font> Hello Jupyter Notebook </font>"
   ]
  },
  {
   "cell_type": "code",
   "execution_count": 3,
   "metadata": {},
   "outputs": [
    {
     "data": {
      "text/html": [
       "<iframe width =\"560\" height= \"315\" src=\"https://www.youtube.com/watch?v=EEEZX...\" frameborder=\"0\" allowfullscreen> </iframe>\n"
      ],
      "text/plain": [
       "<IPython.core.display.HTML object>"
      ]
     },
     "metadata": {},
     "output_type": "display_data"
    }
   ],
   "source": [
    "%%HTML\n",
    "<iframe width =\"560\" height= \"315\" src=\"https://www.youtube.com/watch?v=EEEZX...\" frameborder=\"0\" allowfullscreen> </iframe>"
   ]
  },
  {
   "cell_type": "code",
   "execution_count": 4,
   "metadata": {
    "scrolled": true
   },
   "outputs": [
    {
     "name": "stdout",
     "output_type": "stream",
     "text": [
      "Hello World\n",
      "Don't forget to Subscribe guys! Thaaank youuu :D\n"
     ]
    }
   ],
   "source": [
    "print(\"Hello World\")\n",
    "print(\"Don't forget to Subscribe guys! Thaaank youuu :D\")"
   ]
  }
 ],
 "metadata": {
  "kernelspec": {
   "display_name": "Python 3",
   "language": "python",
   "name": "python3"
  },
  "language_info": {
   "codemirror_mode": {
    "name": "ipython",
    "version": 3
   },
   "file_extension": ".py",
   "mimetype": "text/x-python",
   "name": "python",
   "nbconvert_exporter": "python",
   "pygments_lexer": "ipython3",
   "version": "3.8.2"
  }
 },
 "nbformat": 4,
 "nbformat_minor": 4
}
